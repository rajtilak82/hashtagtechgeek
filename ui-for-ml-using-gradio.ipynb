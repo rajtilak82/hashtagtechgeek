{
 "cells": [
  {
   "cell_type": "markdown",
   "metadata": {},
   "source": [
    "# UI for your Machine Learning model"
   ]
  },
  {
   "cell_type": "markdown",
   "metadata": {},
   "source": [
    "## Install Gradio"
   ]
  },
  {
   "cell_type": "code",
   "execution_count": 1,
   "metadata": {},
   "outputs": [
    {
     "name": "stdout",
     "output_type": "stream",
     "text": [
      "Requirement already satisfied: gradio in d:\\anaconda3\\lib\\site-packages (1.2.3)\n",
      "Requirement already satisfied: flask in d:\\anaconda3\\lib\\site-packages (from gradio) (1.1.2)\n",
      "Requirement already satisfied: numpy in d:\\anaconda3\\lib\\site-packages (from gradio) (1.18.5)\n",
      "Requirement already satisfied: analytics-python in d:\\anaconda3\\lib\\site-packages (from gradio) (1.2.9)\n",
      "Requirement already satisfied: requests in d:\\anaconda3\\lib\\site-packages (from gradio) (2.24.0)\n",
      "Requirement already satisfied: scikit-image in d:\\anaconda3\\lib\\site-packages (from gradio) (0.16.2)\n",
      "Requirement already satisfied: paramiko in d:\\anaconda3\\lib\\site-packages (from gradio) (2.7.2)\n",
      "Requirement already satisfied: pandas in d:\\anaconda3\\lib\\site-packages (from gradio) (1.1.1)\n",
      "Requirement already satisfied: IPython in d:\\anaconda3\\lib\\site-packages (from gradio) (7.18.1)\n",
      "Requirement already satisfied: scipy in d:\\anaconda3\\lib\\site-packages (from gradio) (1.5.0)\n",
      "Requirement already satisfied: itsdangerous>=0.24 in d:\\anaconda3\\lib\\site-packages (from flask->gradio) (1.1.0)\n",
      "Requirement already satisfied: click>=5.1 in d:\\anaconda3\\lib\\site-packages (from flask->gradio) (7.1.2)\n",
      "Requirement already satisfied: Werkzeug>=0.15 in d:\\anaconda3\\lib\\site-packages (from flask->gradio) (1.0.1)\n",
      "Requirement already satisfied: Jinja2>=2.10.1 in d:\\anaconda3\\lib\\site-packages (from flask->gradio) (2.11.2)\n",
      "Requirement already satisfied: six>=1.5 in d:\\anaconda3\\lib\\site-packages (from analytics-python->gradio) (1.15.0)\n",
      "Requirement already satisfied: python-dateutil>2.1 in d:\\anaconda3\\lib\\site-packages (from analytics-python->gradio) (2.8.1)\n",
      "Requirement already satisfied: certifi>=2017.4.17 in d:\\anaconda3\\lib\\site-packages (from requests->gradio) (2020.6.20)\n",
      "Requirement already satisfied: idna<3,>=2.5 in d:\\anaconda3\\lib\\site-packages (from requests->gradio) (2.10)\n",
      "Requirement already satisfied: chardet<4,>=3.0.2 in d:\\anaconda3\\lib\\site-packages (from requests->gradio) (3.0.4)\n",
      "Requirement already satisfied: urllib3!=1.25.0,!=1.25.1,<1.26,>=1.21.1 in d:\\anaconda3\\lib\\site-packages (from requests->gradio) (1.25.10)\n",
      "Requirement already satisfied: PyWavelets>=0.4.0 in d:\\anaconda3\\lib\\site-packages (from scikit-image->gradio) (1.1.1)\n",
      "Requirement already satisfied: networkx>=2.0 in d:\\anaconda3\\lib\\site-packages (from scikit-image->gradio) (2.5)\n",
      "Requirement already satisfied: matplotlib!=3.0.0,>=2.0.0 in d:\\anaconda3\\lib\\site-packages (from scikit-image->gradio) (3.3.1)\n",
      "Requirement already satisfied: pillow>=4.3.0 in d:\\anaconda3\\lib\\site-packages (from scikit-image->gradio) (7.2.0)\n",
      "Requirement already satisfied: imageio>=2.3.0 in d:\\anaconda3\\lib\\site-packages (from scikit-image->gradio) (2.9.0)\n",
      "Requirement already satisfied: cryptography>=2.5 in d:\\anaconda3\\lib\\site-packages (from paramiko->gradio) (3.1)\n",
      "Requirement already satisfied: pynacl>=1.0.1 in d:\\anaconda3\\lib\\site-packages (from paramiko->gradio) (1.4.0)\n",
      "Requirement already satisfied: bcrypt>=3.1.3 in d:\\anaconda3\\lib\\site-packages (from paramiko->gradio) (3.2.0)\n",
      "Requirement already satisfied: pytz>=2017.2 in d:\\anaconda3\\lib\\site-packages (from pandas->gradio) (2020.1)\n",
      "Requirement already satisfied: pygments in d:\\anaconda3\\lib\\site-packages (from IPython->gradio) (2.6.1)\n",
      "Requirement already satisfied: setuptools>=18.5 in d:\\anaconda3\\lib\\site-packages (from IPython->gradio) (49.6.0.post20200814)\n",
      "Requirement already satisfied: colorama; sys_platform == \"win32\" in d:\\anaconda3\\lib\\site-packages (from IPython->gradio) (0.4.3)\n",
      "Requirement already satisfied: prompt-toolkit!=3.0.0,!=3.0.1,<3.1.0,>=2.0.0 in d:\\anaconda3\\lib\\site-packages (from IPython->gradio) (3.0.7)\n",
      "Requirement already satisfied: backcall in d:\\anaconda3\\lib\\site-packages (from IPython->gradio) (0.2.0)\n",
      "Requirement already satisfied: pickleshare in d:\\anaconda3\\lib\\site-packages (from IPython->gradio) (0.7.5)\n",
      "Requirement already satisfied: traitlets>=4.2 in d:\\anaconda3\\lib\\site-packages (from IPython->gradio) (4.3.3)\n",
      "Requirement already satisfied: decorator in d:\\anaconda3\\lib\\site-packages (from IPython->gradio) (4.4.2)\n",
      "Requirement already satisfied: jedi>=0.10 in d:\\anaconda3\\lib\\site-packages (from IPython->gradio) (0.17.1)\n",
      "Requirement already satisfied: MarkupSafe>=0.23 in d:\\anaconda3\\lib\\site-packages (from Jinja2>=2.10.1->flask->gradio) (1.1.1)\n",
      "Requirement already satisfied: pyparsing!=2.0.4,!=2.1.2,!=2.1.6,>=2.0.3 in d:\\anaconda3\\lib\\site-packages (from matplotlib!=3.0.0,>=2.0.0->scikit-image->gradio) (2.4.7)\n",
      "Requirement already satisfied: kiwisolver>=1.0.1 in d:\\anaconda3\\lib\\site-packages (from matplotlib!=3.0.0,>=2.0.0->scikit-image->gradio) (1.2.0)\n",
      "Requirement already satisfied: cycler>=0.10 in d:\\anaconda3\\lib\\site-packages (from matplotlib!=3.0.0,>=2.0.0->scikit-image->gradio) (0.10.0)\n",
      "Requirement already satisfied: cffi!=1.11.3,>=1.8 in d:\\anaconda3\\lib\\site-packages (from cryptography>=2.5->paramiko->gradio) (1.14.2)\n",
      "Requirement already satisfied: wcwidth in d:\\anaconda3\\lib\\site-packages (from prompt-toolkit!=3.0.0,!=3.0.1,<3.1.0,>=2.0.0->IPython->gradio) (0.2.5)\n",
      "Requirement already satisfied: ipython-genutils in d:\\anaconda3\\lib\\site-packages (from traitlets>=4.2->IPython->gradio) (0.2.0)Note: you may need to restart the kernel to use updated packages.\n",
      "Requirement already satisfied: parso<0.8.0,>=0.7.0 in d:\\anaconda3\\lib\\site-packages (from jedi>=0.10->IPython->gradio) (0.7.0)\n",
      "Requirement already satisfied: pycparser in d:\\anaconda3\\lib\\site-packages (from cffi!=1.11.3,>=1.8->cryptography>=2.5->paramiko->gradio) (2.20)\n",
      "\n"
     ]
    }
   ],
   "source": [
    "pip install gradio"
   ]
  },
  {
   "cell_type": "markdown",
   "metadata": {},
   "source": [
    "## Import the required libraries"
   ]
  },
  {
   "cell_type": "code",
   "execution_count": 2,
   "metadata": {},
   "outputs": [],
   "source": [
    "import gradio as gr # for creating the UI\n",
    "import numpy as np # for preprocessing images\n",
    "import requests # for downloading human readable labels\n",
    "from keras.applications.vgg16 import VGG16 # VGG16 model\n",
    "from keras.applications.vgg16 import preprocess_input # VGG16 preprocessing function"
   ]
  },
  {
   "cell_type": "markdown",
   "metadata": {},
   "source": [
    "## Loading the model"
   ]
  },
  {
   "cell_type": "code",
   "execution_count": 3,
   "metadata": {},
   "outputs": [],
   "source": [
    "vgg_model = VGG16()"
   ]
  },
  {
   "cell_type": "markdown",
   "metadata": {},
   "source": [
    "## Download the human readable labels"
   ]
  },
  {
   "cell_type": "code",
   "execution_count": 4,
   "metadata": {},
   "outputs": [],
   "source": [
    "response = requests.get(\"https://raw.githubusercontent.com/gradio-app/mobilenet-example/master/labels.txt\") \n",
    "labels = response.text.split(\"\\n\")"
   ]
  },
  {
   "cell_type": "markdown",
   "metadata": {},
   "source": [
    "## Creating the classification pipeline"
   ]
  },
  {
   "cell_type": "code",
   "execution_count": 5,
   "metadata": {},
   "outputs": [],
   "source": [
    "# this pipeline returns a dictionary with key as label and\n",
    "# values as the predicted confidence for that label\n",
    "\n",
    "def classify_image(image):\n",
    "    image = image.reshape((-1, 224, 224, 3)) # reshaping the image \n",
    "    image = preprocess_input(image) # prepare the image for the VGG16 model \n",
    "    prediction = vgg_model.predict(image).flatten() # predicting the output\n",
    "    return {labels[i]: float(prediction[i]) for i in range(1000)} # finding the predicted labels from the 1000 labels"
   ]
  },
  {
   "cell_type": "markdown",
   "metadata": {},
   "source": [
    "## Initializing the input and output components"
   ]
  },
  {
   "cell_type": "code",
   "execution_count": 6,
   "metadata": {},
   "outputs": [],
   "source": [
    "image = gr.inputs.Image(shape = (224, 224, 3))  \n",
    "label = gr.outputs.Label(num_top_classes = 3) # predicts the top 3 classes"
   ]
  },
  {
   "cell_type": "markdown",
   "metadata": {},
   "source": [
    "## Launching the Gradio interface with our VGG16 model"
   ]
  },
  {
   "cell_type": "code",
   "execution_count": 7,
   "metadata": {},
   "outputs": [
    {
     "name": "stdout",
     "output_type": "stream",
     "text": [
      "Running locally at: http://127.0.0.1:7860/\n",
      "To get a public link for a hosted model, set Share=True\n",
      "Interface loading below...\n"
     ]
    },
    {
     "data": {
      "text/html": [
       "\n",
       "        <iframe\n",
       "            width=\"1000\"\n",
       "            height=\"500\"\n",
       "            src=\"http://127.0.0.1:7860/\"\n",
       "            frameborder=\"0\"\n",
       "            allowfullscreen\n",
       "        ></iframe>\n",
       "        "
      ],
      "text/plain": [
       "<IPython.lib.display.IFrame at 0x17e1f9f9d30>"
      ]
     },
     "metadata": {},
     "output_type": "display_data"
    },
    {
     "data": {
      "text/plain": [
       "(<Flask 'gradio.networking'>, 'http://127.0.0.1:7860/', None)"
      ]
     },
     "execution_count": 7,
     "metadata": {},
     "output_type": "execute_result"
    }
   ],
   "source": [
    "gr.Interface(fn = classify_image, inputs = image,  \n",
    "             outputs = label, capture_session = True).launch() "
   ]
  }
 ],
 "metadata": {
  "kernelspec": {
   "display_name": "Python 3",
   "language": "python",
   "name": "python3"
  },
  "language_info": {
   "codemirror_mode": {
    "name": "ipython",
    "version": 3
   },
   "file_extension": ".py",
   "mimetype": "text/x-python",
   "name": "python",
   "nbconvert_exporter": "python",
   "pygments_lexer": "ipython3",
   "version": "3.8.5"
  }
 },
 "nbformat": 4,
 "nbformat_minor": 4
}
